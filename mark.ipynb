{
 "cells": [
  {
   "cell_type": "markdown",
   "id": "acd29d32",
   "metadata": {
    "colab_type": "text",
    "id": "view-in-github"
   },
   "source": [
    "<a href=\"https://colab.research.google.com/github/BLOC3AN/benmark_csv/blob/main/frontal.ipynb\" target=\"_parent\"><img src=\"https://colab.research.google.com/assets/colab-badge.svg\" alt=\"Open In Colab\"/></a>"
   ]
  },
  {
   "cell_type": "code",
   "execution_count": 58,
   "id": "019b59b4-f7b4-4a92-b80f-22284368f5ff",
   "metadata": {
    "id": "019b59b4-f7b4-4a92-b80f-22284368f5ff",
    "tags": []
   },
   "outputs": [],
   "source": [
    "import json \n",
    "import pandas as pd\n",
    "from tqdm.notebook import tqdm\n",
    "from collections import Counter\n",
    "import matplotlib.pyplot as plt"
   ]
  },
  {
   "cell_type": "code",
   "execution_count": 2,
   "id": "b00c1717-9dfc-41cf-ae9e-863add664438",
   "metadata": {
    "id": "b00c1717-9dfc-41cf-ae9e-863add664438",
    "tags": []
   },
   "outputs": [],
   "source": [
    "url = 'https://raw.githubusercontent.com/BLOC3AN/benmark_csv/main/benchmark_faceid_myvng_mask_202304111534.csv'\n",
    "# path = input(\"path:\")\n",
    "df = pd.read_csv(url)\n",
    "\n"
   ]
  },
  {
   "cell_type": "code",
   "execution_count": 3,
   "id": "vgJsLWimiKsW",
   "metadata": {
    "id": "vgJsLWimiKsW",
    "tags": []
   },
   "outputs": [],
   "source": [
    "lb1_df  = pd.DataFrame()\n",
    "for i in range(len(df[\"lb1\"])):\n",
    "  data_dict = json.loads(df['lb1'][i])\n",
    "  df2 = pd.DataFrame(data_dict['data'])\n",
    "  df2[\"id\"] = df['id'][i]\n",
    "  df2[\"url\"] = df['label_url'][i]\n",
    "\n",
    "  lb1_df = pd.concat([lb1_df,df2], axis =0)\n",
    " "
   ]
  },
  {
   "cell_type": "code",
   "execution_count": 4,
   "id": "xk8DULXMTErr",
   "metadata": {
    "id": "xk8DULXMTErr",
    "tags": []
   },
   "outputs": [],
   "source": [
    "df_loc = lb1_df.loc[lb1_df['seed']==lb1_df['id']]\n",
    "df_loc.to_csv('frontal.csv')"
   ]
  },
  {
   "cell_type": "code",
   "execution_count": 5,
   "id": "N6USzk6gQZzb",
   "metadata": {
    "id": "N6USzk6gQZzb",
    "tags": []
   },
   "outputs": [],
   "source": [
    "import urllib.request\n",
    "from PIL import Image\n",
    "\n"
   ]
  },
  {
   "cell_type": "code",
   "execution_count": 6,
   "id": "4b745ace-546a-41aa-bf29-2b6dbdbe8e94",
   "metadata": {
    "tags": []
   },
   "outputs": [
    {
     "name": "stdout",
     "output_type": "stream",
     "text": [
      "/media/lap13666/hailt8/test/benmark_csv/mark\n"
     ]
    }
   ],
   "source": [
    "%cd mark\n",
    "k = 0 \n",
    "df_loc= df_loc.reset_index()\n",
    "for url in df_loc['url']:\n",
    "    urllib.request.urlretrieve(url, str(df_loc['class_name'][k])+'_'+str(df_loc['id'][k])+'.jpg')\n",
    "    k = k+1\n",
    "\n",
    "# img = Image.open(r\"geeksforgeeks.png\")\n",
    "# img.show()"
   ]
  },
  {
   "cell_type": "code",
   "execution_count": 69,
   "id": "14536309-47c9-4af9-97f3-81a106c36af3",
   "metadata": {
    "tags": []
   },
   "outputs": [
    {
     "data": {
      "text/html": [
       "<div>\n",
       "<style scoped>\n",
       "    .dataframe tbody tr th:only-of-type {\n",
       "        vertical-align: middle;\n",
       "    }\n",
       "\n",
       "    .dataframe tbody tr th {\n",
       "        vertical-align: top;\n",
       "    }\n",
       "\n",
       "    .dataframe thead th {\n",
       "        text-align: right;\n",
       "    }\n",
       "</style>\n",
       "<table border=\"1\" class=\"dataframe\">\n",
       "  <thead>\n",
       "    <tr style=\"text-align: right;\">\n",
       "      <th></th>\n",
       "      <th>level_0</th>\n",
       "      <th>index</th>\n",
       "      <th>class_id</th>\n",
       "      <th>class_name</th>\n",
       "      <th>seed</th>\n",
       "      <th>user_id</th>\n",
       "      <th>content</th>\n",
       "      <th>id</th>\n",
       "      <th>url</th>\n",
       "    </tr>\n",
       "  </thead>\n",
       "  <tbody>\n",
       "    <tr>\n",
       "      <th>128</th>\n",
       "      <td>128</td>\n",
       "      <td>0</td>\n",
       "      <td>3752</td>\n",
       "      <td>Mask</td>\n",
       "      <td>1</td>\n",
       "      <td>354</td>\n",
       "      <td>{'extras': {}}</td>\n",
       "      <td>1</td>\n",
       "      <td>https://res-zalo.zadn.vn/upload/media/2022/4/4...</td>\n",
       "    </tr>\n",
       "    <tr>\n",
       "      <th>153</th>\n",
       "      <td>153</td>\n",
       "      <td>3</td>\n",
       "      <td>3752</td>\n",
       "      <td>Mask</td>\n",
       "      <td>2</td>\n",
       "      <td>563</td>\n",
       "      <td>{'extras': {}}</td>\n",
       "      <td>2</td>\n",
       "      <td>https://res-zalo.zadn.vn/upload/media/2022/4/4...</td>\n",
       "    </tr>\n",
       "    <tr>\n",
       "      <th>133</th>\n",
       "      <td>133</td>\n",
       "      <td>3</td>\n",
       "      <td>3752</td>\n",
       "      <td>Mask</td>\n",
       "      <td>3</td>\n",
       "      <td>354</td>\n",
       "      <td>{'extras': {}}</td>\n",
       "      <td>3</td>\n",
       "      <td>https://res-zalo.zadn.vn/upload/media/2022/4/4...</td>\n",
       "    </tr>\n",
       "    <tr>\n",
       "      <th>146</th>\n",
       "      <td>146</td>\n",
       "      <td>3</td>\n",
       "      <td>3753</td>\n",
       "      <td>NoMask</td>\n",
       "      <td>4</td>\n",
       "      <td>563</td>\n",
       "      <td>{'extras': {}}</td>\n",
       "      <td>4</td>\n",
       "      <td>https://res-zalo.zadn.vn/upload/media/2022/4/4...</td>\n",
       "    </tr>\n",
       "    <tr>\n",
       "      <th>147</th>\n",
       "      <td>147</td>\n",
       "      <td>4</td>\n",
       "      <td>3753</td>\n",
       "      <td>NoMask</td>\n",
       "      <td>5</td>\n",
       "      <td>563</td>\n",
       "      <td>{'extras': {}}</td>\n",
       "      <td>5</td>\n",
       "      <td>https://res-zalo.zadn.vn/upload/media/2022/4/5...</td>\n",
       "    </tr>\n",
       "    <tr>\n",
       "      <th>...</th>\n",
       "      <td>...</td>\n",
       "      <td>...</td>\n",
       "      <td>...</td>\n",
       "      <td>...</td>\n",
       "      <td>...</td>\n",
       "      <td>...</td>\n",
       "      <td>...</td>\n",
       "      <td>...</td>\n",
       "      <td>...</td>\n",
       "    </tr>\n",
       "    <tr>\n",
       "      <th>0</th>\n",
       "      <td>0</td>\n",
       "      <td>2</td>\n",
       "      <td>3752</td>\n",
       "      <td>Mask</td>\n",
       "      <td>1003</td>\n",
       "      <td>563</td>\n",
       "      <td>{'extras': {}}</td>\n",
       "      <td>1003</td>\n",
       "      <td>https://z3s.zaloapp.com/zai/upload/media/2023/...</td>\n",
       "    </tr>\n",
       "    <tr>\n",
       "      <th>999</th>\n",
       "      <td>999</td>\n",
       "      <td>3</td>\n",
       "      <td>3751</td>\n",
       "      <td>Other</td>\n",
       "      <td>1004</td>\n",
       "      <td>563</td>\n",
       "      <td>{'extras': {}}</td>\n",
       "      <td>1004</td>\n",
       "      <td>https://z3s.zaloapp.com/zai/upload/media/2023/...</td>\n",
       "    </tr>\n",
       "    <tr>\n",
       "      <th>1002</th>\n",
       "      <td>1002</td>\n",
       "      <td>7</td>\n",
       "      <td>3752</td>\n",
       "      <td>Mask</td>\n",
       "      <td>1005</td>\n",
       "      <td>563</td>\n",
       "      <td>{'extras': {}}</td>\n",
       "      <td>1005</td>\n",
       "      <td>https://z3s.zaloapp.com/zai/upload/media/2023/...</td>\n",
       "    </tr>\n",
       "    <tr>\n",
       "      <th>996</th>\n",
       "      <td>996</td>\n",
       "      <td>1</td>\n",
       "      <td>3752</td>\n",
       "      <td>Mask</td>\n",
       "      <td>1006</td>\n",
       "      <td>563</td>\n",
       "      <td>{'extras': {}}</td>\n",
       "      <td>1006</td>\n",
       "      <td>https://z3s.zaloapp.com/zai/upload/media/2023/...</td>\n",
       "    </tr>\n",
       "    <tr>\n",
       "      <th>988</th>\n",
       "      <td>988</td>\n",
       "      <td>0</td>\n",
       "      <td>3752</td>\n",
       "      <td>Mask</td>\n",
       "      <td>1007</td>\n",
       "      <td>563</td>\n",
       "      <td>{'extras': {}}</td>\n",
       "      <td>1007</td>\n",
       "      <td>https://z3s.zaloapp.com/zai/upload/media/2023/...</td>\n",
       "    </tr>\n",
       "  </tbody>\n",
       "</table>\n",
       "<p>1003 rows × 9 columns</p>\n",
       "</div>"
      ],
      "text/plain": [
       "      level_0  index class_id class_name  seed  user_id         content    id   \n",
       "128       128      0     3752       Mask     1      354  {'extras': {}}     1  \\\n",
       "153       153      3     3752       Mask     2      563  {'extras': {}}     2   \n",
       "133       133      3     3752       Mask     3      354  {'extras': {}}     3   \n",
       "146       146      3     3753     NoMask     4      563  {'extras': {}}     4   \n",
       "147       147      4     3753     NoMask     5      563  {'extras': {}}     5   \n",
       "...       ...    ...      ...        ...   ...      ...             ...   ...   \n",
       "0           0      2     3752       Mask  1003      563  {'extras': {}}  1003   \n",
       "999       999      3     3751      Other  1004      563  {'extras': {}}  1004   \n",
       "1002     1002      7     3752       Mask  1005      563  {'extras': {}}  1005   \n",
       "996       996      1     3752       Mask  1006      563  {'extras': {}}  1006   \n",
       "988       988      0     3752       Mask  1007      563  {'extras': {}}  1007   \n",
       "\n",
       "                                                    url  \n",
       "128   https://res-zalo.zadn.vn/upload/media/2022/4/4...  \n",
       "153   https://res-zalo.zadn.vn/upload/media/2022/4/4...  \n",
       "133   https://res-zalo.zadn.vn/upload/media/2022/4/4...  \n",
       "146   https://res-zalo.zadn.vn/upload/media/2022/4/4...  \n",
       "147   https://res-zalo.zadn.vn/upload/media/2022/4/5...  \n",
       "...                                                 ...  \n",
       "0     https://z3s.zaloapp.com/zai/upload/media/2023/...  \n",
       "999   https://z3s.zaloapp.com/zai/upload/media/2023/...  \n",
       "1002  https://z3s.zaloapp.com/zai/upload/media/2023/...  \n",
       "996   https://z3s.zaloapp.com/zai/upload/media/2023/...  \n",
       "988   https://z3s.zaloapp.com/zai/upload/media/2023/...  \n",
       "\n",
       "[1003 rows x 9 columns]"
      ]
     },
     "execution_count": 69,
     "metadata": {},
     "output_type": "execute_result"
    }
   ],
   "source": [
    "df_loc.sort_values(\"id\")"
   ]
  },
  {
   "cell_type": "code",
   "execution_count": 39,
   "id": "42d2b7e5-8a37-42f2-aeee-8103db36ec55",
   "metadata": {
    "tags": []
   },
   "outputs": [],
   "source": [
    "cnt = Counter(df_loc['class_name'])\n",
    "A = list(cnt.items())\n",
    "A_df = pd.DataFrame(A)"
   ]
  },
  {
   "cell_type": "code",
   "execution_count": 68,
   "id": "ea5da28d-4ba6-40f7-b2f1-8cc12d3de3f0",
   "metadata": {
    "tags": []
   },
   "outputs": [
    {
     "data": {
      "image/png": "[encoded data removed]",
      "text/plain": [
       "<Figure size 640x480 with 1 Axes>"
      ]
     },
     "metadata": {},
     "output_type": "display_data"
    }
   ],
   "source": [
    "plt.bar(A_df[0],A_df[1], color = \"red\")\n",
    "plt.xlabel(\"Class_name\")\n",
    "plt.ylabel(\"Summary\")\n",
    "plt.grid()\n",
    "plt.show()"
   ]
  },
  {
   "cell_type": "code",
   "execution_count": null,
   "id": "c343974c-05ae-4860-b565-900128d9f00e",
   "metadata": {},
   "outputs": [],
   "source": []
  }
 ],
 "metadata": {
  "accelerator": "GPU",
  "colab": {
   "include_colab_link": true,
   "provenance": []
  },
  "gpuClass": "standard",
  "kernelspec": {
   "display_name": "CCU_env",
   "language": "python",
   "name": "ccu_env"
  },
  "language_info": {
   "codemirror_mode": {
    "name": "ipython",
    "version": 3
   },
   "file_extension": ".py",
   "mimetype": "text/x-python",
   "name": "python",
   "nbconvert_exporter": "python",
   "pygments_lexer": "ipython3",
   "version": "3.10.6"
  }
 },
 "nbformat": 4,
 "nbformat_minor": 5
}
