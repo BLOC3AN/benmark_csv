{
 "cells": [
  {
   "cell_type": "code",
   "execution_count": 1,
   "id": "019b59b4-f7b4-4a92-b80f-22284368f5ff",
   "metadata": {
    "tags": []
   },
   "outputs": [],
   "source": [
    "import pandas as pd"
   ]
  },
  {
   "cell_type": "code",
   "execution_count": 2,
   "id": "b00c1717-9dfc-41cf-ae9e-863add664438",
   "metadata": {
    "tags": []
   },
   "outputs": [
    {
     "name": "stdin",
     "output_type": "stream",
     "text": [
      "paht: benchmark_faceid_myvng_frontal_202304111533.csv\n"
     ]
    },
    {
     "data": {
      "text/html": [
       "<div>\n",
       "<style scoped>\n",
       "    .dataframe tbody tr th:only-of-type {\n",
       "        vertical-align: middle;\n",
       "    }\n",
       "\n",
       "    .dataframe tbody tr th {\n",
       "        vertical-align: top;\n",
       "    }\n",
       "\n",
       "    .dataframe thead th {\n",
       "        text-align: right;\n",
       "    }\n",
       "</style>\n",
       "<table border=\"1\" class=\"dataframe\">\n",
       "  <thead>\n",
       "    <tr style=\"text-align: right;\">\n",
       "      <th></th>\n",
       "      <th>id</th>\n",
       "      <th>label_url</th>\n",
       "      <th>lb1</th>\n",
       "      <th>ds_name</th>\n",
       "      <th>time</th>\n",
       "    </tr>\n",
       "  </thead>\n",
       "  <tbody>\n",
       "    <tr>\n",
       "      <th>0</th>\n",
       "      <td>4</td>\n",
       "      <td>https://res-zalo.zadn.vn/upload/media/2022/4/4...</td>\n",
       "      <td>{\"data\": [{\"class_id\": \"3756\", \"class_name\": \"...</td>\n",
       "      <td>NaN</td>\n",
       "      <td>NaN</td>\n",
       "    </tr>\n",
       "    <tr>\n",
       "      <th>1</th>\n",
       "      <td>14</td>\n",
       "      <td>https://res-zalo.zadn.vn/upload/media/2022/4/1...</td>\n",
       "      <td>{\"data\": [{\"class_id\": \"3756\", \"class_name\": \"...</td>\n",
       "      <td>NaN</td>\n",
       "      <td>NaN</td>\n",
       "    </tr>\n",
       "    <tr>\n",
       "      <th>2</th>\n",
       "      <td>26</td>\n",
       "      <td>https://res-zalo.zadn.vn/upload/media/2022/4/1...</td>\n",
       "      <td>{\"data\": [{\"class_id\": \"3758\", \"class_name\": \"...</td>\n",
       "      <td>NaN</td>\n",
       "      <td>NaN</td>\n",
       "    </tr>\n",
       "    <tr>\n",
       "      <th>3</th>\n",
       "      <td>45</td>\n",
       "      <td>https://res-zalo.zadn.vn/upload/media/2022/4/2...</td>\n",
       "      <td>{\"data\": [{\"class_id\": \"3756\", \"class_name\": \"...</td>\n",
       "      <td>NaN</td>\n",
       "      <td>NaN</td>\n",
       "    </tr>\n",
       "    <tr>\n",
       "      <th>4</th>\n",
       "      <td>48</td>\n",
       "      <td>https://res-zalo.zadn.vn/upload/media/2022/4/2...</td>\n",
       "      <td>{\"data\": [{\"class_id\": \"3756\", \"class_name\": \"...</td>\n",
       "      <td>NaN</td>\n",
       "      <td>NaN</td>\n",
       "    </tr>\n",
       "    <tr>\n",
       "      <th>...</th>\n",
       "      <td>...</td>\n",
       "      <td>...</td>\n",
       "      <td>...</td>\n",
       "      <td>...</td>\n",
       "      <td>...</td>\n",
       "    </tr>\n",
       "    <tr>\n",
       "      <th>1999</th>\n",
       "      <td>998</td>\n",
       "      <td>https://z3s.zaloapp.com/zai/upload/media/2023/...</td>\n",
       "      <td>{\"data\": [{\"class_id\": \"3756\", \"class_name\": \"...</td>\n",
       "      <td>NaN</td>\n",
       "      <td>NaN</td>\n",
       "    </tr>\n",
       "    <tr>\n",
       "      <th>2000</th>\n",
       "      <td>1003</td>\n",
       "      <td>https://z3s.zaloapp.com/zai/upload/media/2023/...</td>\n",
       "      <td>{\"data\": [{\"class_id\": \"3756\", \"class_name\": \"...</td>\n",
       "      <td>NaN</td>\n",
       "      <td>NaN</td>\n",
       "    </tr>\n",
       "    <tr>\n",
       "      <th>2001</th>\n",
       "      <td>1004</td>\n",
       "      <td>https://z3s.zaloapp.com/zai/upload/media/2023/...</td>\n",
       "      <td>{\"data\": [{\"class_id\": \"3756\", \"class_name\": \"...</td>\n",
       "      <td>NaN</td>\n",
       "      <td>NaN</td>\n",
       "    </tr>\n",
       "    <tr>\n",
       "      <th>2002</th>\n",
       "      <td>991</td>\n",
       "      <td>https://z3s.zaloapp.com/zai/upload/media/2023/...</td>\n",
       "      <td>{\"data\": [{\"class_id\": \"3756\", \"class_name\": \"...</td>\n",
       "      <td>NaN</td>\n",
       "      <td>NaN</td>\n",
       "    </tr>\n",
       "    <tr>\n",
       "      <th>2003</th>\n",
       "      <td>1000</td>\n",
       "      <td>https://z3s.zaloapp.com/zai/upload/media/2023/...</td>\n",
       "      <td>{\"data\": [{\"class_id\": \"3756\", \"class_name\": \"...</td>\n",
       "      <td>NaN</td>\n",
       "      <td>NaN</td>\n",
       "    </tr>\n",
       "  </tbody>\n",
       "</table>\n",
       "<p>2004 rows × 5 columns</p>\n",
       "</div>"
      ],
      "text/plain": [
       "        id                                          label_url   \n",
       "0        4  https://res-zalo.zadn.vn/upload/media/2022/4/4...  \\\n",
       "1       14  https://res-zalo.zadn.vn/upload/media/2022/4/1...   \n",
       "2       26  https://res-zalo.zadn.vn/upload/media/2022/4/1...   \n",
       "3       45  https://res-zalo.zadn.vn/upload/media/2022/4/2...   \n",
       "4       48  https://res-zalo.zadn.vn/upload/media/2022/4/2...   \n",
       "...    ...                                                ...   \n",
       "1999   998  https://z3s.zaloapp.com/zai/upload/media/2023/...   \n",
       "2000  1003  https://z3s.zaloapp.com/zai/upload/media/2023/...   \n",
       "2001  1004  https://z3s.zaloapp.com/zai/upload/media/2023/...   \n",
       "2002   991  https://z3s.zaloapp.com/zai/upload/media/2023/...   \n",
       "2003  1000  https://z3s.zaloapp.com/zai/upload/media/2023/...   \n",
       "\n",
       "                                                    lb1  ds_name  time  \n",
       "0     {\"data\": [{\"class_id\": \"3756\", \"class_name\": \"...      NaN   NaN  \n",
       "1     {\"data\": [{\"class_id\": \"3756\", \"class_name\": \"...      NaN   NaN  \n",
       "2     {\"data\": [{\"class_id\": \"3758\", \"class_name\": \"...      NaN   NaN  \n",
       "3     {\"data\": [{\"class_id\": \"3756\", \"class_name\": \"...      NaN   NaN  \n",
       "4     {\"data\": [{\"class_id\": \"3756\", \"class_name\": \"...      NaN   NaN  \n",
       "...                                                 ...      ...   ...  \n",
       "1999  {\"data\": [{\"class_id\": \"3756\", \"class_name\": \"...      NaN   NaN  \n",
       "2000  {\"data\": [{\"class_id\": \"3756\", \"class_name\": \"...      NaN   NaN  \n",
       "2001  {\"data\": [{\"class_id\": \"3756\", \"class_name\": \"...      NaN   NaN  \n",
       "2002  {\"data\": [{\"class_id\": \"3756\", \"class_name\": \"...      NaN   NaN  \n",
       "2003  {\"data\": [{\"class_id\": \"3756\", \"class_name\": \"...      NaN   NaN  \n",
       "\n",
       "[2004 rows x 5 columns]"
      ]
     },
     "execution_count": 2,
     "metadata": {},
     "output_type": "execute_result"
    }
   ],
   "source": [
    "path = input(\"paht:\")\n",
    "df1 = pd.read_csv(path)\n",
    "df1"
   ]
  },
  {
   "cell_type": "code",
   "execution_count": 54,
   "id": "e372679b-9cee-47f2-917c-8c4894a2e715",
   "metadata": {
    "tags": []
   },
   "outputs": [],
   "source": [
    "import ast\n",
    "df2 = df2.apply(lambda x: ast.literal_eval(x))\n",
    "df2 = df2.apply(pd.Series)"
   ]
  },
  {
   "cell_type": "code",
   "execution_count": 55,
   "id": "46ee2038-465b-4ad2-b38f-cd863f5d5406",
   "metadata": {
    "tags": []
   },
   "outputs": [
    {
     "data": {
      "text/plain": [
       "0       {'data': [{'class_id': '3756', 'class_name': '...\n",
       "1       {'data': [{'class_id': '3756', 'class_name': '...\n",
       "2       {'data': [{'class_id': '3758', 'class_name': '...\n",
       "3       {'data': [{'class_id': '3756', 'class_name': '...\n",
       "4       {'data': [{'class_id': '3756', 'class_name': '...\n",
       "                              ...                        \n",
       "1999    {'data': [{'class_id': '3756', 'class_name': '...\n",
       "2000    {'data': [{'class_id': '3756', 'class_name': '...\n",
       "2001    {'data': [{'class_id': '3756', 'class_name': '...\n",
       "2002    {'data': [{'class_id': '3756', 'class_name': '...\n",
       "2003    {'data': [{'class_id': '3756', 'class_name': '...\n",
       "Name: lb1, Length: 2004, dtype: object"
      ]
     },
     "execution_count": 55,
     "metadata": {},
     "output_type": "execute_result"
    }
   ],
   "source": [
    "df2"
   ]
  },
  {
   "cell_type": "code",
   "execution_count": null,
   "id": "bc8ed19c-3aa6-41c7-9085-4f06105c10bf",
   "metadata": {},
   "outputs": [],
   "source": []
  }
 ],
 "metadata": {
  "kernelspec": {
   "display_name": "CCU_env",
   "language": "python",
   "name": "ccu_env"
  },
  "language_info": {
   "codemirror_mode": {
    "name": "ipython",
    "version": 3
   },
   "file_extension": ".py",
   "mimetype": "text/x-python",
   "name": "python",
   "nbconvert_exporter": "python",
   "pygments_lexer": "ipython3",
   "version": "3.10.6"
  }
 },
 "nbformat": 4,
 "nbformat_minor": 5
}
