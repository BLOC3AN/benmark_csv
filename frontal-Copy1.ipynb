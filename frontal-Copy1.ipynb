{
 "cells": [
  {
   "cell_type": "markdown",
   "id": "acd29d32",
   "metadata": {
    "colab_type": "text",
    "id": "view-in-github"
   },
   "source": [
    "<a href=\"https://colab.research.google.com/github/BLOC3AN/benmark_csv/blob/main/frontal.ipynb\" target=\"_parent\"><img src=\"https://colab.research.google.com/assets/colab-badge.svg\" alt=\"Open In Colab\"/></a>"
   ]
  },
  {
   "cell_type": "code",
   "execution_count": 13,
   "id": "019b59b4-f7b4-4a92-b80f-22284368f5ff",
   "metadata": {
    "id": "019b59b4-f7b4-4a92-b80f-22284368f5ff",
    "tags": []
   },
   "outputs": [],
   "source": [
    "import json \n",
    "import pandas as pd\n",
    "from tqdm.notebook import tqdm\n",
    "from collections import Counter\n",
    "\n",
    "import urllib.request\n",
    "from PIL import Image"
   ]
  },
  {
   "cell_type": "code",
   "execution_count": 24,
   "id": "b00c1717-9dfc-41cf-ae9e-863add664438",
   "metadata": {
    "id": "b00c1717-9dfc-41cf-ae9e-863add664438",
    "tags": []
   },
   "outputs": [],
   "source": [
    "url = 'https://raw.githubusercontent.com/BLOC3AN/benmark_csv/main/benchmark_faceid_myvng_frontal_202304111533.csv'\n",
    "# path = input(\"path:\")\n",
    "df = pd.read_csv(url)\n",
    "\n",
    "df = df.drop_duplicates('id').reset_index()\n",
    "df = df.drop(columns = ['ds_name','time'])"
   ]
  },
  {
   "cell_type": "code",
   "execution_count": 25,
   "id": "0d1d02a9-169e-43f0-b2a7-30f18ade5645",
   "metadata": {
    "tags": []
   },
   "outputs": [
    {
     "data": {
      "text/html": [
       "<div>\n",
       "<style scoped>\n",
       "    .dataframe tbody tr th:only-of-type {\n",
       "        vertical-align: middle;\n",
       "    }\n",
       "\n",
       "    .dataframe tbody tr th {\n",
       "        vertical-align: top;\n",
       "    }\n",
       "\n",
       "    .dataframe thead th {\n",
       "        text-align: right;\n",
       "    }\n",
       "</style>\n",
       "<table border=\"1\" class=\"dataframe\">\n",
       "  <thead>\n",
       "    <tr style=\"text-align: right;\">\n",
       "      <th></th>\n",
       "      <th>index</th>\n",
       "      <th>id</th>\n",
       "      <th>label_url</th>\n",
       "      <th>lb1</th>\n",
       "    </tr>\n",
       "  </thead>\n",
       "  <tbody>\n",
       "    <tr>\n",
       "      <th>0</th>\n",
       "      <td>0</td>\n",
       "      <td>4</td>\n",
       "      <td>https://res-zalo.zadn.vn/upload/media/2022/4/4...</td>\n",
       "      <td>{\"data\": [{\"class_id\": \"3756\", \"class_name\": \"...</td>\n",
       "    </tr>\n",
       "    <tr>\n",
       "      <th>1</th>\n",
       "      <td>1</td>\n",
       "      <td>14</td>\n",
       "      <td>https://res-zalo.zadn.vn/upload/media/2022/4/1...</td>\n",
       "      <td>{\"data\": [{\"class_id\": \"3756\", \"class_name\": \"...</td>\n",
       "    </tr>\n",
       "    <tr>\n",
       "      <th>2</th>\n",
       "      <td>2</td>\n",
       "      <td>26</td>\n",
       "      <td>https://res-zalo.zadn.vn/upload/media/2022/4/1...</td>\n",
       "      <td>{\"data\": [{\"class_id\": \"3758\", \"class_name\": \"...</td>\n",
       "    </tr>\n",
       "    <tr>\n",
       "      <th>3</th>\n",
       "      <td>3</td>\n",
       "      <td>45</td>\n",
       "      <td>https://res-zalo.zadn.vn/upload/media/2022/4/2...</td>\n",
       "      <td>{\"data\": [{\"class_id\": \"3756\", \"class_name\": \"...</td>\n",
       "    </tr>\n",
       "    <tr>\n",
       "      <th>4</th>\n",
       "      <td>4</td>\n",
       "      <td>48</td>\n",
       "      <td>https://res-zalo.zadn.vn/upload/media/2022/4/2...</td>\n",
       "      <td>{\"data\": [{\"class_id\": \"3756\", \"class_name\": \"...</td>\n",
       "    </tr>\n",
       "    <tr>\n",
       "      <th>...</th>\n",
       "      <td>...</td>\n",
       "      <td>...</td>\n",
       "      <td>...</td>\n",
       "      <td>...</td>\n",
       "    </tr>\n",
       "    <tr>\n",
       "      <th>997</th>\n",
       "      <td>999</td>\n",
       "      <td>998</td>\n",
       "      <td>https://z3s.zaloapp.com/zai/upload/media/2023/...</td>\n",
       "      <td>{\"data\": [{\"class_id\": \"3756\", \"class_name\": \"...</td>\n",
       "    </tr>\n",
       "    <tr>\n",
       "      <th>998</th>\n",
       "      <td>1000</td>\n",
       "      <td>1003</td>\n",
       "      <td>https://z3s.zaloapp.com/zai/upload/media/2023/...</td>\n",
       "      <td>{\"data\": [{\"class_id\": \"3756\", \"class_name\": \"...</td>\n",
       "    </tr>\n",
       "    <tr>\n",
       "      <th>999</th>\n",
       "      <td>1001</td>\n",
       "      <td>1004</td>\n",
       "      <td>https://z3s.zaloapp.com/zai/upload/media/2023/...</td>\n",
       "      <td>{\"data\": [{\"class_id\": \"3756\", \"class_name\": \"...</td>\n",
       "    </tr>\n",
       "    <tr>\n",
       "      <th>1000</th>\n",
       "      <td>1002</td>\n",
       "      <td>991</td>\n",
       "      <td>https://z3s.zaloapp.com/zai/upload/media/2023/...</td>\n",
       "      <td>{\"data\": [{\"class_id\": \"3756\", \"class_name\": \"...</td>\n",
       "    </tr>\n",
       "    <tr>\n",
       "      <th>1001</th>\n",
       "      <td>1003</td>\n",
       "      <td>1000</td>\n",
       "      <td>https://z3s.zaloapp.com/zai/upload/media/2023/...</td>\n",
       "      <td>{\"data\": [{\"class_id\": \"3756\", \"class_name\": \"...</td>\n",
       "    </tr>\n",
       "  </tbody>\n",
       "</table>\n",
       "<p>1002 rows × 4 columns</p>\n",
       "</div>"
      ],
      "text/plain": [
       "      index    id                                          label_url   \n",
       "0         0     4  https://res-zalo.zadn.vn/upload/media/2022/4/4...  \\\n",
       "1         1    14  https://res-zalo.zadn.vn/upload/media/2022/4/1...   \n",
       "2         2    26  https://res-zalo.zadn.vn/upload/media/2022/4/1...   \n",
       "3         3    45  https://res-zalo.zadn.vn/upload/media/2022/4/2...   \n",
       "4         4    48  https://res-zalo.zadn.vn/upload/media/2022/4/2...   \n",
       "...     ...   ...                                                ...   \n",
       "997     999   998  https://z3s.zaloapp.com/zai/upload/media/2023/...   \n",
       "998    1000  1003  https://z3s.zaloapp.com/zai/upload/media/2023/...   \n",
       "999    1001  1004  https://z3s.zaloapp.com/zai/upload/media/2023/...   \n",
       "1000   1002   991  https://z3s.zaloapp.com/zai/upload/media/2023/...   \n",
       "1001   1003  1000  https://z3s.zaloapp.com/zai/upload/media/2023/...   \n",
       "\n",
       "                                                    lb1  \n",
       "0     {\"data\": [{\"class_id\": \"3756\", \"class_name\": \"...  \n",
       "1     {\"data\": [{\"class_id\": \"3756\", \"class_name\": \"...  \n",
       "2     {\"data\": [{\"class_id\": \"3758\", \"class_name\": \"...  \n",
       "3     {\"data\": [{\"class_id\": \"3756\", \"class_name\": \"...  \n",
       "4     {\"data\": [{\"class_id\": \"3756\", \"class_name\": \"...  \n",
       "...                                                 ...  \n",
       "997   {\"data\": [{\"class_id\": \"3756\", \"class_name\": \"...  \n",
       "998   {\"data\": [{\"class_id\": \"3756\", \"class_name\": \"...  \n",
       "999   {\"data\": [{\"class_id\": \"3756\", \"class_name\": \"...  \n",
       "1000  {\"data\": [{\"class_id\": \"3756\", \"class_name\": \"...  \n",
       "1001  {\"data\": [{\"class_id\": \"3756\", \"class_name\": \"...  \n",
       "\n",
       "[1002 rows x 4 columns]"
      ]
     },
     "execution_count": 25,
     "metadata": {},
     "output_type": "execute_result"
    }
   ],
   "source": [
    "df"
   ]
  },
  {
   "cell_type": "code",
   "execution_count": 27,
   "id": "739ce23e-1e06-4cb0-8c7e-12e193a72b6d",
   "metadata": {
    "tags": []
   },
   "outputs": [
    {
     "name": "stdout",
     "output_type": "stream",
     "text": [
      "0.05122041702270508\n"
     ]
    },
    {
     "data": {
      "text/html": [
       "<div>\n",
       "<style scoped>\n",
       "    .dataframe tbody tr th:only-of-type {\n",
       "        vertical-align: middle;\n",
       "    }\n",
       "\n",
       "    .dataframe tbody tr th {\n",
       "        vertical-align: top;\n",
       "    }\n",
       "\n",
       "    .dataframe thead th {\n",
       "        text-align: right;\n",
       "    }\n",
       "</style>\n",
       "<table border=\"1\" class=\"dataframe\">\n",
       "  <thead>\n",
       "    <tr style=\"text-align: right;\">\n",
       "      <th></th>\n",
       "      <th>index</th>\n",
       "      <th>id</th>\n",
       "      <th>label_url</th>\n",
       "      <th>lb1</th>\n",
       "      <th>lb</th>\n",
       "      <th>class_name</th>\n",
       "    </tr>\n",
       "  </thead>\n",
       "  <tbody>\n",
       "    <tr>\n",
       "      <th>0</th>\n",
       "      <td>0</td>\n",
       "      <td>4</td>\n",
       "      <td>https://res-zalo.zadn.vn/upload/media/2022/4/4...</td>\n",
       "      <td>{\"data\": [{\"class_id\": \"3756\", \"class_name\": \"...</td>\n",
       "      <td>{'class_id': '3758', 'class_name': 'BLUR', 'se...</td>\n",
       "      <td>BLUR</td>\n",
       "    </tr>\n",
       "    <tr>\n",
       "      <th>1</th>\n",
       "      <td>1</td>\n",
       "      <td>14</td>\n",
       "      <td>https://res-zalo.zadn.vn/upload/media/2022/4/1...</td>\n",
       "      <td>{\"data\": [{\"class_id\": \"3756\", \"class_name\": \"...</td>\n",
       "      <td>{'class_id': '3756', 'class_name': 'FRONTAL', ...</td>\n",
       "      <td>FRONTAL</td>\n",
       "    </tr>\n",
       "    <tr>\n",
       "      <th>2</th>\n",
       "      <td>2</td>\n",
       "      <td>26</td>\n",
       "      <td>https://res-zalo.zadn.vn/upload/media/2022/4/1...</td>\n",
       "      <td>{\"data\": [{\"class_id\": \"3758\", \"class_name\": \"...</td>\n",
       "      <td>{'class_id': '3758', 'class_name': 'BLUR', 'se...</td>\n",
       "      <td>BLUR</td>\n",
       "    </tr>\n",
       "    <tr>\n",
       "      <th>3</th>\n",
       "      <td>3</td>\n",
       "      <td>45</td>\n",
       "      <td>https://res-zalo.zadn.vn/upload/media/2022/4/2...</td>\n",
       "      <td>{\"data\": [{\"class_id\": \"3756\", \"class_name\": \"...</td>\n",
       "      <td>{'class_id': '3756', 'class_name': 'FRONTAL', ...</td>\n",
       "      <td>FRONTAL</td>\n",
       "    </tr>\n",
       "    <tr>\n",
       "      <th>4</th>\n",
       "      <td>4</td>\n",
       "      <td>48</td>\n",
       "      <td>https://res-zalo.zadn.vn/upload/media/2022/4/2...</td>\n",
       "      <td>{\"data\": [{\"class_id\": \"3756\", \"class_name\": \"...</td>\n",
       "      <td>{'class_id': '3756', 'class_name': 'FRONTAL', ...</td>\n",
       "      <td>FRONTAL</td>\n",
       "    </tr>\n",
       "    <tr>\n",
       "      <th>...</th>\n",
       "      <td>...</td>\n",
       "      <td>...</td>\n",
       "      <td>...</td>\n",
       "      <td>...</td>\n",
       "      <td>...</td>\n",
       "      <td>...</td>\n",
       "    </tr>\n",
       "    <tr>\n",
       "      <th>997</th>\n",
       "      <td>999</td>\n",
       "      <td>998</td>\n",
       "      <td>https://z3s.zaloapp.com/zai/upload/media/2023/...</td>\n",
       "      <td>{\"data\": [{\"class_id\": \"3756\", \"class_name\": \"...</td>\n",
       "      <td>{'class_id': '3758', 'class_name': 'BLUR', 'se...</td>\n",
       "      <td>BLUR</td>\n",
       "    </tr>\n",
       "    <tr>\n",
       "      <th>998</th>\n",
       "      <td>1000</td>\n",
       "      <td>1003</td>\n",
       "      <td>https://z3s.zaloapp.com/zai/upload/media/2023/...</td>\n",
       "      <td>{\"data\": [{\"class_id\": \"3756\", \"class_name\": \"...</td>\n",
       "      <td>{'class_id': '3756', 'class_name': 'FRONTAL', ...</td>\n",
       "      <td>FRONTAL</td>\n",
       "    </tr>\n",
       "    <tr>\n",
       "      <th>999</th>\n",
       "      <td>1001</td>\n",
       "      <td>1004</td>\n",
       "      <td>https://z3s.zaloapp.com/zai/upload/media/2023/...</td>\n",
       "      <td>{\"data\": [{\"class_id\": \"3756\", \"class_name\": \"...</td>\n",
       "      <td>{'class_id': '3756', 'class_name': 'FRONTAL', ...</td>\n",
       "      <td>FRONTAL</td>\n",
       "    </tr>\n",
       "    <tr>\n",
       "      <th>1000</th>\n",
       "      <td>1002</td>\n",
       "      <td>991</td>\n",
       "      <td>https://z3s.zaloapp.com/zai/upload/media/2023/...</td>\n",
       "      <td>{\"data\": [{\"class_id\": \"3756\", \"class_name\": \"...</td>\n",
       "      <td>{'class_id': '3756', 'class_name': 'FRONTAL', ...</td>\n",
       "      <td>FRONTAL</td>\n",
       "    </tr>\n",
       "    <tr>\n",
       "      <th>1001</th>\n",
       "      <td>1003</td>\n",
       "      <td>1000</td>\n",
       "      <td>https://z3s.zaloapp.com/zai/upload/media/2023/...</td>\n",
       "      <td>{\"data\": [{\"class_id\": \"3756\", \"class_name\": \"...</td>\n",
       "      <td>{'class_id': '3756', 'class_name': 'FRONTAL', ...</td>\n",
       "      <td>FRONTAL</td>\n",
       "    </tr>\n",
       "  </tbody>\n",
       "</table>\n",
       "<p>1002 rows × 6 columns</p>\n",
       "</div>"
      ],
      "text/plain": [
       "      index    id                                          label_url   \n",
       "0         0     4  https://res-zalo.zadn.vn/upload/media/2022/4/4...  \\\n",
       "1         1    14  https://res-zalo.zadn.vn/upload/media/2022/4/1...   \n",
       "2         2    26  https://res-zalo.zadn.vn/upload/media/2022/4/1...   \n",
       "3         3    45  https://res-zalo.zadn.vn/upload/media/2022/4/2...   \n",
       "4         4    48  https://res-zalo.zadn.vn/upload/media/2022/4/2...   \n",
       "...     ...   ...                                                ...   \n",
       "997     999   998  https://z3s.zaloapp.com/zai/upload/media/2023/...   \n",
       "998    1000  1003  https://z3s.zaloapp.com/zai/upload/media/2023/...   \n",
       "999    1001  1004  https://z3s.zaloapp.com/zai/upload/media/2023/...   \n",
       "1000   1002   991  https://z3s.zaloapp.com/zai/upload/media/2023/...   \n",
       "1001   1003  1000  https://z3s.zaloapp.com/zai/upload/media/2023/...   \n",
       "\n",
       "                                                    lb1   \n",
       "0     {\"data\": [{\"class_id\": \"3756\", \"class_name\": \"...  \\\n",
       "1     {\"data\": [{\"class_id\": \"3756\", \"class_name\": \"...   \n",
       "2     {\"data\": [{\"class_id\": \"3758\", \"class_name\": \"...   \n",
       "3     {\"data\": [{\"class_id\": \"3756\", \"class_name\": \"...   \n",
       "4     {\"data\": [{\"class_id\": \"3756\", \"class_name\": \"...   \n",
       "...                                                 ...   \n",
       "997   {\"data\": [{\"class_id\": \"3756\", \"class_name\": \"...   \n",
       "998   {\"data\": [{\"class_id\": \"3756\", \"class_name\": \"...   \n",
       "999   {\"data\": [{\"class_id\": \"3756\", \"class_name\": \"...   \n",
       "1000  {\"data\": [{\"class_id\": \"3756\", \"class_name\": \"...   \n",
       "1001  {\"data\": [{\"class_id\": \"3756\", \"class_name\": \"...   \n",
       "\n",
       "                                                     lb class_name  \n",
       "0     {'class_id': '3758', 'class_name': 'BLUR', 'se...       BLUR  \n",
       "1     {'class_id': '3756', 'class_name': 'FRONTAL', ...    FRONTAL  \n",
       "2     {'class_id': '3758', 'class_name': 'BLUR', 'se...       BLUR  \n",
       "3     {'class_id': '3756', 'class_name': 'FRONTAL', ...    FRONTAL  \n",
       "4     {'class_id': '3756', 'class_name': 'FRONTAL', ...    FRONTAL  \n",
       "...                                                 ...        ...  \n",
       "997   {'class_id': '3758', 'class_name': 'BLUR', 'se...       BLUR  \n",
       "998   {'class_id': '3756', 'class_name': 'FRONTAL', ...    FRONTAL  \n",
       "999   {'class_id': '3756', 'class_name': 'FRONTAL', ...    FRONTAL  \n",
       "1000  {'class_id': '3756', 'class_name': 'FRONTAL', ...    FRONTAL  \n",
       "1001  {'class_id': '3756', 'class_name': 'FRONTAL', ...    FRONTAL  \n",
       "\n",
       "[1002 rows x 6 columns]"
      ]
     },
     "execution_count": 27,
     "metadata": {},
     "output_type": "execute_result"
    }
   ],
   "source": [
    "# b = df['lb1'].map(lambda x : [x for x in json.loads(x)['data'] if x['seed']])\n",
    "\n",
    "\n",
    "import time\n",
    "s = time.time()\n",
    "\n",
    "df['lb'] = df.apply(lambda row : [x for x in json.loads(row['lb1'])['data'] if row['id'] == x['seed']][0], axis=1)\n",
    "\n",
    "df['class_name'] = df.lb.map(lambda x:x['class_name'])\n",
    "print(time.time() - s)\n",
    "df"
   ]
  },
  {
   "cell_type": "code",
   "execution_count": 37,
   "id": "116a4255-e1f3-41ab-8025-acb007071719",
   "metadata": {
    "tags": []
   },
   "outputs": [
    {
     "name": "stdout",
     "output_type": "stream",
     "text": [
      "C: [{'class_id': '3756', 'class_name': 'FRONTAL', 'seed': 11, 'user_id': 563, 'content': {'extras': {}}}, {'class_id': '3756', 'class_name': 'FRONTAL', 'seed': 8, 'user_id': 563, 'content': {'extras': {}}}, {'class_id': '3756', 'class_name': 'FRONTAL', 'seed': 3, 'user_id': 563, 'content': {'extras': {}}}, {'class_id': '3756', 'class_name': 'FRONTAL', 'seed': 9, 'user_id': 563, 'content': {'extras': {}}}, {'class_id': '3756', 'class_name': 'FRONTAL', 'seed': 6, 'user_id': 563, 'content': {'extras': {}}}, {'class_id': '3756', 'class_name': 'FRONTAL', 'seed': 7, 'user_id': 563, 'content': {'extras': {}}}, {'class_id': '3758', 'class_name': 'BLUR', 'seed': 4, 'user_id': 563, 'content': {'extras': {}}}, {'class_id': '3756', 'class_name': 'FRONTAL', 'seed': 2, 'user_id': 563, 'content': {'extras': {}}}]\n",
      "B: [{'class_id': '3756', 'class_name': 'FRONTAL', 'seed': 11, 'user_id': 563, 'content': {'extras': {}}}, {'class_id': '3756', 'class_name': 'FRONTAL', 'seed': 8, 'user_id': 563, 'content': {'extras': {}}}, {'class_id': '3756', 'class_name': 'FRONTAL', 'seed': 3, 'user_id': 563, 'content': {'extras': {}}}, {'class_id': '3756', 'class_name': 'FRONTAL', 'seed': 9, 'user_id': 563, 'content': {'extras': {}}}, {'class_id': '3756', 'class_name': 'FRONTAL', 'seed': 6, 'user_id': 563, 'content': {'extras': {}}}, {'class_id': '3756', 'class_name': 'FRONTAL', 'seed': 7, 'user_id': 563, 'content': {'extras': {}}}, {'class_id': '3758', 'class_name': 'BLUR', 'seed': 4, 'user_id': 563, 'content': {'extras': {}}}, {'class_id': '3756', 'class_name': 'FRONTAL', 'seed': 2, 'user_id': 563, 'content': {'extras': {}}}]\n"
     ]
    }
   ],
   "source": [
    "b = df['lb1'].map(lambda x : [x for x in json.loads(x)['data'] if x['seed']])\n",
    "c = df['lb1'].map(lambda x : [x for x in json.loads(x)['data']])\n",
    "print(\"C:\",c[0])\n",
    "print(\"B:\", b[0])"
   ]
  },
  {
   "cell_type": "code",
   "execution_count": 18,
   "id": "34e9b7d4-2463-451b-9356-ceb2c20e3be0",
   "metadata": {
    "tags": []
   },
   "outputs": [],
   "source": [
    "df['lb'] = df.apply(lambda row : [x for x in json.loads(row['lb1'])['data'] if row['id'] == x['seed']][0], axis=1)\n",
    "df['class_name'] = df.lb.map(lambda x:x['class_name'])"
   ]
  },
  {
   "cell_type": "code",
   "execution_count": 19,
   "id": "d02cc491-2efe-43a2-be69-48f49a4900c6",
   "metadata": {
    "tags": []
   },
   "outputs": [
    {
     "name": "stdout",
     "output_type": "stream",
     "text": [
      "1.5397179126739502\n"
     ]
    }
   ],
   "source": [
    "import time\n",
    "s = time.time()\n",
    "lb1_df  = pd.DataFrame()\n",
    "l = []\n",
    "for i in range(len(df[\"lb1\"])):\n",
    "  data_dict = json.loads(df['lb1'][i])\n",
    "  df2 = pd.DataFrame(data_dict['data'])\n",
    "  df2[\"id\"] = df['id'][i]\n",
    "  df2[\"url\"] = df['label_url'][i]\n",
    "    \n",
    "  # l.append(df2)\n",
    "  lb1_df = pd.concat([lb1_df,df2], axis =0)\n",
    "\n",
    "# dff = pd.concat(l, axis=0)\n",
    "print(time.time() - s)"
   ]
  },
  {
   "cell_type": "code",
   "execution_count": 20,
   "id": "092e3cd7-e109-48d3-a8c4-ffe008d79caf",
   "metadata": {
    "tags": []
   },
   "outputs": [],
   "source": [
    "df = df.set_index('id')"
   ]
  },
  {
   "cell_type": "code",
   "execution_count": 21,
   "id": "a23a9217-ad14-43e5-ab29-5fbaac22879f",
   "metadata": {
    "tags": []
   },
   "outputs": [],
   "source": [
    "for id, tdf in lb1_df.groupby('id'):\n",
    "    gt = df.loc[id,'class_name']\n",
    "    acc = (tdf['class_name'] == gt).mean()\n",
    "    df.loc[id, 'acc'] = acc"
   ]
  },
  {
   "cell_type": "code",
   "execution_count": 39,
   "id": "89ed03f2-4e7a-4d90-9319-69c08569c874",
   "metadata": {
    "tags": []
   },
   "outputs": [
    {
     "data": {
      "text/plain": [
       "'https://res-zalo.zadn.vn/upload/media/2022/4/4/1649086357_1076245_1649086357163_9367.jpg'"
      ]
     },
     "execution_count": 39,
     "metadata": {},
     "output_type": "execute_result"
    }
   ],
   "source": [
    "df['label_url'][0]"
   ]
  },
  {
   "cell_type": "code",
   "execution_count": 60,
   "id": "74c0c2be-e9da-4707-8b26-eca173dfd5ed",
   "metadata": {
    "tags": []
   },
   "outputs": [
    {
     "ename": "ModuleNotFoundError",
     "evalue": "No module named 'cv2'",
     "output_type": "error",
     "traceback": [
      "\u001b[0;31m---------------------------------------------------------------------------\u001b[0m",
      "\u001b[0;31mModuleNotFoundError\u001b[0m                       Traceback (most recent call last)",
      "Cell \u001b[0;32mIn[60], line 3\u001b[0m\n\u001b[1;32m      1\u001b[0m \u001b[38;5;28;01mfrom\u001b[39;00m \u001b[38;5;21;01mPIL\u001b[39;00m \u001b[38;5;28;01mimport\u001b[39;00m Image\n\u001b[1;32m      2\u001b[0m \u001b[38;5;28;01mimport\u001b[39;00m \u001b[38;5;21;01mrequests\u001b[39;00m\n\u001b[0;32m----> 3\u001b[0m \u001b[38;5;28;01mimport\u001b[39;00m \u001b[38;5;21;01mcv2\u001b[39;00m \u001b[38;5;28;01mas\u001b[39;00m \u001b[38;5;21;01mcv\u001b[39;00m \n\u001b[1;32m      5\u001b[0m [x \u001b[38;5;28;01mfor\u001b[39;00m x \u001b[38;5;129;01min\u001b[39;00m df[\u001b[38;5;124m'\u001b[39m\u001b[38;5;124mlabel_url\u001b[39m\u001b[38;5;124m'\u001b[39m][:\u001b[38;5;241m10\u001b[39m]]\n\u001b[1;32m      6\u001b[0m im \u001b[38;5;241m=\u001b[39m Image\u001b[38;5;241m.\u001b[39mopen(requests\u001b[38;5;241m.\u001b[39mget(x, stream\u001b[38;5;241m=\u001b[39m\u001b[38;5;28;01mTrue\u001b[39;00m)\u001b[38;5;241m.\u001b[39mraw)\n",
      "\u001b[0;31mModuleNotFoundError\u001b[0m: No module named 'cv2'"
     ]
    }
   ],
   "source": [
    "from PIL import Image\n",
    "import requests\n",
    "import cv2 as cv \n",
    "\n",
    "[x for x in df['label_url'][:10]]\n",
    "im = Image.open(requests.get(x, stream=True).raw)\n",
    "im\n",
    "\n"
   ]
  },
  {
   "cell_type": "code",
   "execution_count": null,
   "id": "e003ef1e-c77d-4aef-a274-c2d03b9f968f",
   "metadata": {},
   "outputs": [],
   "source": []
  }
 ],
 "metadata": {
  "accelerator": "GPU",
  "colab": {
   "include_colab_link": true,
   "provenance": []
  },
  "gpuClass": "standard",
  "kernelspec": {
   "display_name": "CCU_env",
   "language": "python",
   "name": "ccu_env"
  },
  "language_info": {
   "codemirror_mode": {
    "name": "ipython",
    "version": 3
   },
   "file_extension": ".py",
   "mimetype": "text/x-python",
   "name": "python",
   "nbconvert_exporter": "python",
   "pygments_lexer": "ipython3",
   "version": "3.10.6"
  }
 },
 "nbformat": 4,
 "nbformat_minor": 5
}
