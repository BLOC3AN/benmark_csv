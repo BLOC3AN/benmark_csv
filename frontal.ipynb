{
  "cells": [
    {
      "cell_type": "markdown",
      "metadata": {
        "id": "view-in-github",
        "colab_type": "text"
      },
      "source": [
        "<a href=\"https://colab.research.google.com/github/BLOC3AN/benmark_csv/blob/main/frontal.ipynb\" target=\"_parent\"><img src=\"https://colab.research.google.com/assets/colab-badge.svg\" alt=\"Open In Colab\"/></a>"
      ]
    },
    {
      "cell_type": "code",
      "execution_count": 129,
      "id": "019b59b4-f7b4-4a92-b80f-22284368f5ff",
      "metadata": {
        "tags": [],
        "id": "019b59b4-f7b4-4a92-b80f-22284368f5ff"
      },
      "outputs": [],
      "source": [
        "import json \n",
        "import pandas as pd\n",
        "from tqdm.notebook import tqdm\n",
        "from collections import Counter"
      ]
    },
    {
      "cell_type": "code",
      "execution_count": 137,
      "id": "b00c1717-9dfc-41cf-ae9e-863add664438",
      "metadata": {
        "tags": [],
        "id": "b00c1717-9dfc-41cf-ae9e-863add664438"
      },
      "outputs": [],
      "source": [
        "url = 'https://raw.githubusercontent.com/BLOC3AN/benmark_csv/main/benchmark_faceid_myvng_frontal_202304111533.csv'\n",
        "# path = input(\"path:\")\n",
        "df = pd.read_csv(url)\n",
        "\n"
      ]
    },
    {
      "cell_type": "code",
      "source": [
        "lb1_df  = pd.DataFrame()\n",
        "for i in range(len(df[\"lb1\"])):\n",
        "  data_dict = json.loads(df['lb1'][i])\n",
        "  df2 = pd.DataFrame(data_dict['data'])\n",
        "  df2[\"id\"] = df['id'][i]\n",
        "  df2[\"url\"] = df['label_url'][i]\n",
        "\n",
        "  lb1_df = pd.concat([lb1_df,df2], axis =0)\n",
        " "
      ],
      "metadata": {
        "id": "vgJsLWimiKsW"
      },
      "id": "vgJsLWimiKsW",
      "execution_count": 140,
      "outputs": []
    },
    {
      "cell_type": "code",
      "source": [
        "df_loc = lb1_df.loc[lb1_df['seed']==lb1_df['id']]\n",
        "df_loc.to_csv('frontal.csv')"
      ],
      "metadata": {
        "id": "xk8DULXMTErr"
      },
      "id": "xk8DULXMTErr",
      "execution_count": 142,
      "outputs": []
    },
    {
      "cell_type": "code",
      "source": [],
      "metadata": {
        "id": "N6USzk6gQZzb"
      },
      "id": "N6USzk6gQZzb",
      "execution_count": null,
      "outputs": []
    }
  ],
  "metadata": {
    "kernelspec": {
      "display_name": "CCU_env",
      "language": "python",
      "name": "ccu_env"
    },
    "language_info": {
      "codemirror_mode": {
        "name": "ipython",
        "version": 3
      },
      "file_extension": ".py",
      "mimetype": "text/x-python",
      "name": "python",
      "nbconvert_exporter": "python",
      "pygments_lexer": "ipython3",
      "version": "3.10.6"
    },
    "colab": {
      "provenance": [],
      "include_colab_link": true
    },
    "accelerator": "GPU",
    "gpuClass": "standard"
  },
  "nbformat": 4,
  "nbformat_minor": 5
}