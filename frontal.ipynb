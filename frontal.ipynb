{
 "cells": [
  {
   "cell_type": "markdown",
   "id": "acd29d32",
   "metadata": {
    "colab_type": "text",
    "id": "view-in-github"
   },
   "source": [
    "<a href=\"https://colab.research.google.com/github/BLOC3AN/benmark_csv/blob/main/frontal.ipynb\" target=\"_parent\"><img src=\"https://colab.research.google.com/assets/colab-badge.svg\" alt=\"Open In Colab\"/></a>"
   ]
  },
  {
   "cell_type": "code",
   "execution_count": 6,
   "id": "019b59b4-f7b4-4a92-b80f-22284368f5ff",
   "metadata": {
    "id": "019b59b4-f7b4-4a92-b80f-22284368f5ff",
    "tags": []
   },
   "outputs": [],
   "source": [
    "import json \n",
    "import pandas as pd\n",
    "from tqdm.notebook import tqdm\n",
    "from collections import Counter\n",
    "\n",
    "import urllib.request\n",
    "from PIL import Image"
   ]
  },
  {
   "cell_type": "code",
   "execution_count": 7,
   "id": "b00c1717-9dfc-41cf-ae9e-863add664438",
   "metadata": {
    "id": "b00c1717-9dfc-41cf-ae9e-863add664438",
    "tags": []
   },
   "outputs": [],
   "source": [
    "url = 'https://raw.githubusercontent.com/BLOC3AN/benmark_csv/main/benchmark_faceid_myvng_frontal_202304111533.csv'\n",
    "# path = input(\"path:\")\n",
    "df = pd.read_csv(url)\n",
    "\n"
   ]
  },
  {
   "cell_type": "code",
   "execution_count": 8,
   "id": "vgJsLWimiKsW",
   "metadata": {
    "id": "vgJsLWimiKsW",
    "tags": []
   },
   "outputs": [],
   "source": [
    "lb1_df  = pd.DataFrame()\n",
    "for i in range(len(df[\"lb1\"])):\n",
    "  data_dict = json.loads(df['lb1'][i])\n",
    "  df2 = pd.DataFrame(data_dict['data'])\n",
    "  df2[\"id\"] = df['id'][i]\n",
    "  df2[\"url\"] = df['label_url'][i]\n",
    "\n",
    "  lb1_df = pd.concat([lb1_df,df2], axis =0)\n",
    " "
   ]
  },
  {
   "cell_type": "code",
   "execution_count": 5,
   "id": "xk8DULXMTErr",
   "metadata": {
    "id": "xk8DULXMTErr",
    "tags": []
   },
   "outputs": [],
   "source": [
    "df_loc = lb1_df.loc[lb1_df['seed']==lb1_df['id']]\n",
    "df_loc.to_csv('frontal.csv')"
   ]
  },
  {
   "cell_type": "markdown",
   "id": "790f3c44-d464-4503-a97d-0c0854f3f8e0",
   "metadata": {
    "tags": []
   },
   "source": [
    "%cd frontal\n",
    "k = 0 \n",
    "df_loc= df_loc.reset_index()\n",
    "for url in df_loc['url']:\n",
    "    urllib.request.urlretrieve(url, str(df_loc['class_name'][k])+'_'+str(df_loc['id'][k])+'.jpg')\n",
    "    k = k+1\n",
    "\n",
    "# img = Image.open(r\"geeksforgeeks.png\")\n",
    "# img.show()\n",
    "\n",
    "df"
   ]
  },
  {
   "cell_type": "code",
   "execution_count": 9,
   "id": "540bd68f-e8b6-4560-af93-4fe377a5b6be",
   "metadata": {
    "tags": []
   },
   "outputs": [
    {
     "name": "stdout",
     "output_type": "stream",
     "text": [
      "2004\n"
     ]
    }
   ],
   "source": [
    "k = 0 \n",
    "df_loc= df_loc.reset_index()\n",
    "for url in df_loc['url']:\n",
    "    # urllib.request.urlretrieve(url, str(df_loc['class_name'][k])+'_'+str(df_loc['id'][k])+'.jpg')\n",
    "    \n",
    "    k = k+1\n",
    "print(k)"
   ]
  },
  {
   "cell_type": "code",
   "execution_count": 24,
   "id": "19364523-bae4-447f-9f24-a53d27ad7d0c",
   "metadata": {
    "collapsed": true,
    "jupyter": {
     "outputs_hidden": true
    },
    "tags": []
   },
   "outputs": [
    {
     "ename": "TypeError",
     "evalue": "the JSON object must be str, bytes or bytearray, not Series",
     "output_type": "error",
     "traceback": [
      "\u001b[0;31m---------------------------------------------------------------------------\u001b[0m",
      "\u001b[0;31mTypeError\u001b[0m                                 Traceback (most recent call last)",
      "Cell \u001b[0;32mIn[24], line 3\u001b[0m\n\u001b[1;32m      1\u001b[0m lb1_df  \u001b[38;5;241m=\u001b[39m pd\u001b[38;5;241m.\u001b[39mDataFrame()\n\u001b[0;32m----> 3\u001b[0m data_dict \u001b[38;5;241m=\u001b[39m \u001b[43mjson\u001b[49m\u001b[38;5;241;43m.\u001b[39;49m\u001b[43mloads\u001b[49m\u001b[43m(\u001b[49m\u001b[43mdf\u001b[49m\u001b[43m[\u001b[49m\u001b[38;5;124;43m'\u001b[39;49m\u001b[38;5;124;43mlb1\u001b[39;49m\u001b[38;5;124;43m'\u001b[39;49m\u001b[43m]\u001b[49m\u001b[43m)\u001b[49m\n\u001b[1;32m      4\u001b[0m \u001b[38;5;66;03m# df2 = pd.DataFrame(data_dict['data'])\u001b[39;00m\n\u001b[1;32m      5\u001b[0m \u001b[38;5;66;03m# df2[\"id\"] = df['id'][0]\u001b[39;00m\n\u001b[1;32m      6\u001b[0m \u001b[38;5;66;03m# df2[\"url\"] = df['label_url'][0]\u001b[39;00m\n\u001b[1;32m      7\u001b[0m \n\u001b[1;32m      8\u001b[0m \u001b[38;5;66;03m# lb1_df = pd.concat([lb1_df,df2], axis =0)\u001b[39;00m\n",
      "File \u001b[0;32m/usr/lib/python3.10/json/__init__.py:339\u001b[0m, in \u001b[0;36mloads\u001b[0;34m(s, cls, object_hook, parse_float, parse_int, parse_constant, object_pairs_hook, **kw)\u001b[0m\n\u001b[1;32m    337\u001b[0m \u001b[38;5;28;01melse\u001b[39;00m:\n\u001b[1;32m    338\u001b[0m     \u001b[38;5;28;01mif\u001b[39;00m \u001b[38;5;129;01mnot\u001b[39;00m \u001b[38;5;28misinstance\u001b[39m(s, (\u001b[38;5;28mbytes\u001b[39m, \u001b[38;5;28mbytearray\u001b[39m)):\n\u001b[0;32m--> 339\u001b[0m         \u001b[38;5;28;01mraise\u001b[39;00m \u001b[38;5;167;01mTypeError\u001b[39;00m(\u001b[38;5;124mf\u001b[39m\u001b[38;5;124m'\u001b[39m\u001b[38;5;124mthe JSON object must be str, bytes or bytearray, \u001b[39m\u001b[38;5;124m'\u001b[39m\n\u001b[1;32m    340\u001b[0m                         \u001b[38;5;124mf\u001b[39m\u001b[38;5;124m'\u001b[39m\u001b[38;5;124mnot \u001b[39m\u001b[38;5;132;01m{\u001b[39;00ms\u001b[38;5;241m.\u001b[39m\u001b[38;5;18m__class__\u001b[39m\u001b[38;5;241m.\u001b[39m\u001b[38;5;18m__name__\u001b[39m\u001b[38;5;132;01m}\u001b[39;00m\u001b[38;5;124m'\u001b[39m)\n\u001b[1;32m    341\u001b[0m     s \u001b[38;5;241m=\u001b[39m s\u001b[38;5;241m.\u001b[39mdecode(detect_encoding(s), \u001b[38;5;124m'\u001b[39m\u001b[38;5;124msurrogatepass\u001b[39m\u001b[38;5;124m'\u001b[39m)\n\u001b[1;32m    343\u001b[0m \u001b[38;5;28;01mif\u001b[39;00m (\u001b[38;5;28mcls\u001b[39m \u001b[38;5;129;01mis\u001b[39;00m \u001b[38;5;28;01mNone\u001b[39;00m \u001b[38;5;129;01mand\u001b[39;00m object_hook \u001b[38;5;129;01mis\u001b[39;00m \u001b[38;5;28;01mNone\u001b[39;00m \u001b[38;5;129;01mand\u001b[39;00m\n\u001b[1;32m    344\u001b[0m         parse_int \u001b[38;5;129;01mis\u001b[39;00m \u001b[38;5;28;01mNone\u001b[39;00m \u001b[38;5;129;01mand\u001b[39;00m parse_float \u001b[38;5;129;01mis\u001b[39;00m \u001b[38;5;28;01mNone\u001b[39;00m \u001b[38;5;129;01mand\u001b[39;00m\n\u001b[1;32m    345\u001b[0m         parse_constant \u001b[38;5;129;01mis\u001b[39;00m \u001b[38;5;28;01mNone\u001b[39;00m \u001b[38;5;129;01mand\u001b[39;00m object_pairs_hook \u001b[38;5;129;01mis\u001b[39;00m \u001b[38;5;28;01mNone\u001b[39;00m \u001b[38;5;129;01mand\u001b[39;00m \u001b[38;5;129;01mnot\u001b[39;00m kw):\n",
      "\u001b[0;31mTypeError\u001b[0m: the JSON object must be str, bytes or bytearray, not Series"
     ]
    }
   ],
   "source": [
    "lb1_df  = pd.DataFrame()\n",
    "\n",
    "data_dict = json.loads(df['lb1'])\n",
    "# df2 = pd.DataFrame(data_dict['data'])\n",
    "# df2[\"id\"] = df['id'][0]\n",
    "# df2[\"url\"] = df['label_url'][0]\n",
    "\n",
    "# lb1_df = pd.concat([lb1_df,df2], axis =0)"
   ]
  },
  {
   "cell_type": "code",
   "execution_count": 60,
   "id": "9bf10b9c-6c17-43b8-be2d-0270299e4108",
   "metadata": {
    "tags": []
   },
   "outputs": [],
   "source": [
    "a = lambda x : json.loads(df['lb1'])"
   ]
  },
  {
   "cell_type": "code",
   "execution_count": 61,
   "id": "9f4ca7be-d9bf-43ea-b23f-6cdb3fac689e",
   "metadata": {
    "tags": []
   },
   "outputs": [
    {
     "data": {
      "text/plain": [
       "<function __main__.<lambda>(x)>"
      ]
     },
     "execution_count": 61,
     "metadata": {},
     "output_type": "execute_result"
    }
   ],
   "source": [
    "a"
   ]
  },
  {
   "cell_type": "code",
   "execution_count": 98,
   "id": "739ce23e-1e06-4cb0-8c7e-12e193a72b6d",
   "metadata": {
    "tags": []
   },
   "outputs": [],
   "source": [
    "b = df['id'].map(lambda x : pd.DataFrame(json.loads(df['lb1'][x])))\n"
   ]
  },
  {
   "cell_type": "code",
   "execution_count": 99,
   "id": "5f8c39bc-fa0a-496d-9c00-34ee66714d59",
   "metadata": {
    "tags": []
   },
   "outputs": [
    {
     "data": {
      "text/plain": [
       "Index(['data'], dtype='object')"
      ]
     },
     "execution_count": 99,
     "metadata": {},
     "output_type": "execute_result"
    }
   ],
   "source": [
    "c = b[0]\n",
    "c.keys()"
   ]
  },
  {
   "cell_type": "code",
   "execution_count": 100,
   "id": "e5dd88b7-8f85-4b9b-a172-411f9329ae6a",
   "metadata": {
    "tags": []
   },
   "outputs": [
    {
     "data": {
      "text/plain": [
       "dict_keys(['class_id', 'class_name', 'seed', 'user_id', 'content'])"
      ]
     },
     "execution_count": 100,
     "metadata": {},
     "output_type": "execute_result"
    }
   ],
   "source": [
    "c.data[0].keys()"
   ]
  },
  {
   "cell_type": "code",
   "execution_count": 88,
   "id": "045d171e-7114-47ab-a117-79c3bd9de57a",
   "metadata": {
    "tags": []
   },
   "outputs": [
    {
     "data": {
      "text/plain": [
       "<function __main__.<lambda>(x)>"
      ]
     },
     "execution_count": 88,
     "metadata": {},
     "output_type": "execute_result"
    }
   ],
   "source": [
    "e = lambda x : b\n",
    "e"
   ]
  },
  {
   "cell_type": "code",
   "execution_count": 91,
   "id": "91113fe9-e9dd-4bd0-a857-5c619d7e874e",
   "metadata": {
    "tags": []
   },
   "outputs": [
    {
     "data": {
      "text/plain": [
       "0                                                     ...\n",
       "1                                                     ...\n",
       "2                                                     ...\n",
       "3                                                     ...\n",
       "4                                                     ...\n",
       "                              ...                        \n",
       "1999                                                  ...\n",
       "2000                                                  ...\n",
       "2001                                                  ...\n",
       "2002                                                  ...\n",
       "2003                                                  ...\n",
       "Name: id, Length: 2004, dtype: object"
      ]
     },
     "execution_count": 91,
     "metadata": {},
     "output_type": "execute_result"
    }
   ],
   "source": [
    "e(0)"
   ]
  },
  {
   "cell_type": "code",
   "execution_count": 102,
   "id": "4e7ceeff-f168-469b-a63a-77d297abdcad",
   "metadata": {
    "tags": []
   },
   "outputs": [
    {
     "data": {
      "text/plain": [
       "'{\"data\": [{\"class_id\": \"3756\", \"class_name\": \"FRONTAL\", \"seed\": 11, \"user_id\": 563, \"content\": {\"extras\": {}}}, {\"class_id\": \"3756\", \"class_name\": \"FRONTAL\", \"seed\": 8, \"user_id\": 563, \"content\": {\"extras\": {}}}, {\"class_id\": \"3756\", \"class_name\": \"FRONTAL\", \"seed\": 3, \"user_id\": 563, \"content\": {\"extras\": {}}}, {\"class_id\": \"3756\", \"class_name\": \"FRONTAL\", \"seed\": 9, \"user_id\": 563, \"content\": {\"extras\": {}}}, {\"class_id\": \"3756\", \"class_name\": \"FRONTAL\", \"seed\": 6, \"user_id\": 563, \"content\": {\"extras\": {}}}, {\"class_id\": \"3756\", \"class_name\": \"FRONTAL\", \"seed\": 7, \"user_id\": 563, \"content\": {\"extras\": {}}}, {\"class_id\": \"3758\", \"class_name\": \"BLUR\", \"seed\": 4, \"user_id\": 563, \"content\": {\"extras\": {}}}, {\"class_id\": \"3756\", \"class_name\": \"FRONTAL\", \"seed\": 2, \"user_id\": 563, \"content\": {\"extras\": {}}}]}'"
      ]
     },
     "execution_count": 102,
     "metadata": {},
     "output_type": "execute_result"
    }
   ],
   "source": [
    "df['lb1'][0]"
   ]
  },
  {
   "cell_type": "code",
   "execution_count": null,
   "id": "0c5e097c-dd7d-4db6-abfd-90fea0521911",
   "metadata": {},
   "outputs": [],
   "source": []
  }
 ],
 "metadata": {
  "accelerator": "GPU",
  "colab": {
   "include_colab_link": true,
   "provenance": []
  },
  "gpuClass": "standard",
  "kernelspec": {
   "display_name": "CCU_env",
   "language": "python",
   "name": "ccu_env"
  },
  "language_info": {
   "codemirror_mode": {
    "name": "ipython",
    "version": 3
   },
   "file_extension": ".py",
   "mimetype": "text/x-python",
   "name": "python",
   "nbconvert_exporter": "python",
   "pygments_lexer": "ipython3",
   "version": "3.10.6"
  }
 },
 "nbformat": 4,
 "nbformat_minor": 5
}
