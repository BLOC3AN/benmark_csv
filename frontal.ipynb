{
 "cells": [
  {
   "cell_type": "markdown",
   "id": "acd29d32",
   "metadata": {
    "colab_type": "text",
    "id": "view-in-github"
   },
   "source": [
    "<a href=\"https://colab.research.google.com/github/BLOC3AN/benmark_csv/blob/main/frontal.ipynb\" target=\"_parent\"><img src=\"https://colab.research.google.com/assets/colab-badge.svg\" alt=\"Open In Colab\"/></a>"
   ]
  },
  {
   "cell_type": "code",
   "execution_count": 1,
   "id": "019b59b4-f7b4-4a92-b80f-22284368f5ff",
   "metadata": {
    "id": "019b59b4-f7b4-4a92-b80f-22284368f5ff",
    "tags": []
   },
   "outputs": [],
   "source": [
    "import json \n",
    "import pandas as pd\n",
    "from tqdm.notebook import tqdm\n",
    "from collections import Counter"
   ]
  },
  {
   "cell_type": "code",
   "execution_count": 2,
   "id": "b00c1717-9dfc-41cf-ae9e-863add664438",
   "metadata": {
    "id": "b00c1717-9dfc-41cf-ae9e-863add664438",
    "tags": []
   },
   "outputs": [],
   "source": [
    "url = 'https://raw.githubusercontent.com/BLOC3AN/benmark_csv/main/benchmark_faceid_myvng_frontal_202304111533.csv'\n",
    "# path = input(\"path:\")\n",
    "df = pd.read_csv(url)\n",
    "\n"
   ]
  },
  {
   "cell_type": "code",
   "execution_count": 4,
   "id": "vgJsLWimiKsW",
   "metadata": {
    "id": "vgJsLWimiKsW",
    "tags": []
   },
   "outputs": [],
   "source": [
    "lb1_df  = pd.DataFrame()\n",
    "for i in range(len(df[\"lb1\"])):\n",
    "  data_dict = json.loads(df['lb1'][i])\n",
    "  df2 = pd.DataFrame(data_dict['data'])\n",
    "  df2[\"id\"] = df['id'][i]\n",
    "  df2[\"url\"] = df['label_url'][i]\n",
    "\n",
    "  lb1_df = pd.concat([lb1_df,df2], axis =0)\n",
    " "
   ]
  },
  {
   "cell_type": "code",
   "execution_count": 5,
   "id": "xk8DULXMTErr",
   "metadata": {
    "id": "xk8DULXMTErr",
    "tags": []
   },
   "outputs": [],
   "source": [
    "df_loc = lb1_df.loc[lb1_df['seed']==lb1_df['id']]\n",
    "df_loc.to_csv('frontal.csv')"
   ]
  },
  {
   "cell_type": "code",
   "execution_count": 6,
   "id": "N6USzk6gQZzb",
   "metadata": {
    "id": "N6USzk6gQZzb",
    "tags": []
   },
   "outputs": [],
   "source": [
    "import urllib.request\n",
    "from PIL import Image\n",
    "\n"
   ]
  },
  {
   "cell_type": "code",
   "execution_count": 7,
   "id": "4b745ace-546a-41aa-bf29-2b6dbdbe8e94",
   "metadata": {
    "tags": []
   },
   "outputs": [
    {
     "name": "stdout",
     "output_type": "stream",
     "text": [
      "/media/lap13666/hailt8/test/benmark_csv/frontal\n"
     ]
    }
   ],
   "source": [
    "%cd frontal\n",
    "k = 0 \n",
    "df_loc= df_loc.reset_index()\n",
    "for url in df_loc['url']:\n",
    "    urllib.request.urlretrieve(url, str(df_loc['class_name'][k])+'_'+str(df_loc['id'][k])+'.jpg')\n",
    "    k = k+1\n",
    "\n",
    "# img = Image.open(r\"geeksforgeeks.png\")\n",
    "# img.show()"
   ]
  },
  {
   "cell_type": "code",
   "execution_count": 8,
   "id": "14536309-47c9-4af9-97f3-81a106c36af3",
   "metadata": {
    "tags": []
   },
   "outputs": [
    {
     "data": {
      "text/html": [
       "<div>\n",
       "<style scoped>\n",
       "    .dataframe tbody tr th:only-of-type {\n",
       "        vertical-align: middle;\n",
       "    }\n",
       "\n",
       "    .dataframe tbody tr th {\n",
       "        vertical-align: top;\n",
       "    }\n",
       "\n",
       "    .dataframe thead th {\n",
       "        text-align: right;\n",
       "    }\n",
       "</style>\n",
       "<table border=\"1\" class=\"dataframe\">\n",
       "  <thead>\n",
       "    <tr style=\"text-align: right;\">\n",
       "      <th></th>\n",
       "      <th>index</th>\n",
       "      <th>class_id</th>\n",
       "      <th>class_name</th>\n",
       "      <th>seed</th>\n",
       "      <th>user_id</th>\n",
       "      <th>content</th>\n",
       "      <th>id</th>\n",
       "      <th>url</th>\n",
       "    </tr>\n",
       "  </thead>\n",
       "  <tbody>\n",
       "    <tr>\n",
       "      <th>0</th>\n",
       "      <td>6</td>\n",
       "      <td>3758</td>\n",
       "      <td>BLUR</td>\n",
       "      <td>4</td>\n",
       "      <td>563</td>\n",
       "      <td>{'extras': {}}</td>\n",
       "      <td>4</td>\n",
       "      <td>https://res-zalo.zadn.vn/upload/media/2022/4/4...</td>\n",
       "    </tr>\n",
       "    <tr>\n",
       "      <th>1</th>\n",
       "      <td>6</td>\n",
       "      <td>3756</td>\n",
       "      <td>FRONTAL</td>\n",
       "      <td>14</td>\n",
       "      <td>563</td>\n",
       "      <td>{'extras': {}}</td>\n",
       "      <td>14</td>\n",
       "      <td>https://res-zalo.zadn.vn/upload/media/2022/4/1...</td>\n",
       "    </tr>\n",
       "    <tr>\n",
       "      <th>2</th>\n",
       "      <td>0</td>\n",
       "      <td>3758</td>\n",
       "      <td>BLUR</td>\n",
       "      <td>26</td>\n",
       "      <td>563</td>\n",
       "      <td>{'extras': {}}</td>\n",
       "      <td>26</td>\n",
       "      <td>https://res-zalo.zadn.vn/upload/media/2022/4/1...</td>\n",
       "    </tr>\n",
       "    <tr>\n",
       "      <th>3</th>\n",
       "      <td>0</td>\n",
       "      <td>3756</td>\n",
       "      <td>FRONTAL</td>\n",
       "      <td>45</td>\n",
       "      <td>563</td>\n",
       "      <td>{'extras': {}}</td>\n",
       "      <td>45</td>\n",
       "      <td>https://res-zalo.zadn.vn/upload/media/2022/4/2...</td>\n",
       "    </tr>\n",
       "    <tr>\n",
       "      <th>4</th>\n",
       "      <td>1</td>\n",
       "      <td>3756</td>\n",
       "      <td>FRONTAL</td>\n",
       "      <td>48</td>\n",
       "      <td>563</td>\n",
       "      <td>{'extras': {}}</td>\n",
       "      <td>48</td>\n",
       "      <td>https://res-zalo.zadn.vn/upload/media/2022/4/2...</td>\n",
       "    </tr>\n",
       "    <tr>\n",
       "      <th>...</th>\n",
       "      <td>...</td>\n",
       "      <td>...</td>\n",
       "      <td>...</td>\n",
       "      <td>...</td>\n",
       "      <td>...</td>\n",
       "      <td>...</td>\n",
       "      <td>...</td>\n",
       "      <td>...</td>\n",
       "    </tr>\n",
       "    <tr>\n",
       "      <th>1999</th>\n",
       "      <td>2</td>\n",
       "      <td>3758</td>\n",
       "      <td>BLUR</td>\n",
       "      <td>998</td>\n",
       "      <td>563</td>\n",
       "      <td>{'extras': {}}</td>\n",
       "      <td>998</td>\n",
       "      <td>https://z3s.zaloapp.com/zai/upload/media/2023/...</td>\n",
       "    </tr>\n",
       "    <tr>\n",
       "      <th>2000</th>\n",
       "      <td>3</td>\n",
       "      <td>3756</td>\n",
       "      <td>FRONTAL</td>\n",
       "      <td>1003</td>\n",
       "      <td>563</td>\n",
       "      <td>{'extras': {}}</td>\n",
       "      <td>1003</td>\n",
       "      <td>https://z3s.zaloapp.com/zai/upload/media/2023/...</td>\n",
       "    </tr>\n",
       "    <tr>\n",
       "      <th>2001</th>\n",
       "      <td>4</td>\n",
       "      <td>3756</td>\n",
       "      <td>FRONTAL</td>\n",
       "      <td>1004</td>\n",
       "      <td>563</td>\n",
       "      <td>{'extras': {}}</td>\n",
       "      <td>1004</td>\n",
       "      <td>https://z3s.zaloapp.com/zai/upload/media/2023/...</td>\n",
       "    </tr>\n",
       "    <tr>\n",
       "      <th>2002</th>\n",
       "      <td>6</td>\n",
       "      <td>3756</td>\n",
       "      <td>FRONTAL</td>\n",
       "      <td>991</td>\n",
       "      <td>563</td>\n",
       "      <td>{'extras': {}}</td>\n",
       "      <td>991</td>\n",
       "      <td>https://z3s.zaloapp.com/zai/upload/media/2023/...</td>\n",
       "    </tr>\n",
       "    <tr>\n",
       "      <th>2003</th>\n",
       "      <td>7</td>\n",
       "      <td>3756</td>\n",
       "      <td>FRONTAL</td>\n",
       "      <td>1000</td>\n",
       "      <td>563</td>\n",
       "      <td>{'extras': {}}</td>\n",
       "      <td>1000</td>\n",
       "      <td>https://z3s.zaloapp.com/zai/upload/media/2023/...</td>\n",
       "    </tr>\n",
       "  </tbody>\n",
       "</table>\n",
       "<p>2004 rows × 8 columns</p>\n",
       "</div>"
      ],
      "text/plain": [
       "      index class_id class_name  seed  user_id         content    id   \n",
       "0         6     3758       BLUR     4      563  {'extras': {}}     4  \\\n",
       "1         6     3756    FRONTAL    14      563  {'extras': {}}    14   \n",
       "2         0     3758       BLUR    26      563  {'extras': {}}    26   \n",
       "3         0     3756    FRONTAL    45      563  {'extras': {}}    45   \n",
       "4         1     3756    FRONTAL    48      563  {'extras': {}}    48   \n",
       "...     ...      ...        ...   ...      ...             ...   ...   \n",
       "1999      2     3758       BLUR   998      563  {'extras': {}}   998   \n",
       "2000      3     3756    FRONTAL  1003      563  {'extras': {}}  1003   \n",
       "2001      4     3756    FRONTAL  1004      563  {'extras': {}}  1004   \n",
       "2002      6     3756    FRONTAL   991      563  {'extras': {}}   991   \n",
       "2003      7     3756    FRONTAL  1000      563  {'extras': {}}  1000   \n",
       "\n",
       "                                                    url  \n",
       "0     https://res-zalo.zadn.vn/upload/media/2022/4/4...  \n",
       "1     https://res-zalo.zadn.vn/upload/media/2022/4/1...  \n",
       "2     https://res-zalo.zadn.vn/upload/media/2022/4/1...  \n",
       "3     https://res-zalo.zadn.vn/upload/media/2022/4/2...  \n",
       "4     https://res-zalo.zadn.vn/upload/media/2022/4/2...  \n",
       "...                                                 ...  \n",
       "1999  https://z3s.zaloapp.com/zai/upload/media/2023/...  \n",
       "2000  https://z3s.zaloapp.com/zai/upload/media/2023/...  \n",
       "2001  https://z3s.zaloapp.com/zai/upload/media/2023/...  \n",
       "2002  https://z3s.zaloapp.com/zai/upload/media/2023/...  \n",
       "2003  https://z3s.zaloapp.com/zai/upload/media/2023/...  \n",
       "\n",
       "[2004 rows x 8 columns]"
      ]
     },
     "execution_count": 8,
     "metadata": {},
     "output_type": "execute_result"
    }
   ],
   "source": [
    "df_loc"
   ]
  },
  {
   "cell_type": "code",
   "execution_count": null,
   "id": "540bd68f-e8b6-4560-af93-4fe377a5b6be",
   "metadata": {},
   "outputs": [],
   "source": []
  }
 ],
 "metadata": {
  "accelerator": "GPU",
  "colab": {
   "include_colab_link": true,
   "provenance": []
  },
  "gpuClass": "standard",
  "kernelspec": {
   "display_name": "CCU_env",
   "language": "python",
   "name": "ccu_env"
  },
  "language_info": {
   "codemirror_mode": {
    "name": "ipython",
    "version": 3
   },
   "file_extension": ".py",
   "mimetype": "text/x-python",
   "name": "python",
   "nbconvert_exporter": "python",
   "pygments_lexer": "ipython3",
   "version": "3.10.6"
  }
 },
 "nbformat": 4,
 "nbformat_minor": 5
}
